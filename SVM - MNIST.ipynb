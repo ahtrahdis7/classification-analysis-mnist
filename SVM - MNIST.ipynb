{
 "cells": [
  {
   "cell_type": "code",
   "execution_count": 5,
   "metadata": {},
   "outputs": [],
   "source": [
    "import pandas as pd\n",
    "import numpy as np\n",
    "import tensorflow as tf\n",
    "import matplotlib.pyplot as plt\n",
    "from sklearn.model_selection import train_test_split\n",
    "from sklearn.preprocessing import scale\n",
    "# import custon functions\n",
    "# from utils import process_data"
   ]
  },
  {
   "cell_type": "code",
   "execution_count": null,
   "metadata": {},
   "outputs": [],
   "source": []
  },
  {
   "cell_type": "code",
   "execution_count": 6,
   "metadata": {},
   "outputs": [],
   "source": [
    "data = tf.keras.datasets.mnist.load_data(\n",
    "    path='mnist.npz'\n",
    ")"
   ]
  },
  {
   "cell_type": "code",
   "execution_count": 7,
   "metadata": {},
   "outputs": [],
   "source": [
    "def process_data(data):\n",
    "    print(\"pre-processing data\")\n",
    "    X = np.array(data[0][0])\n",
    "    y = np.array(data[0][1])\n",
    "    X_flat = []\n",
    "    for i in range(len(X)):\n",
    "        X_flat.append(X[i].flatten())\n",
    "    X = np.array(X_flat)\n",
    "    X_scaled = scale(X)\n",
    "    # X_flat.shape\n",
    "    return train_test_split(X_scaled,y, test_size = 0.3, train_size = 0.2 ,random_state = 10)"
   ]
  },
  {
   "cell_type": "code",
   "execution_count": 8,
   "metadata": {},
   "outputs": [
    {
     "name": "stdout",
     "output_type": "stream",
     "text": [
      "pre-processing data\n"
     ]
    }
   ],
   "source": [
    "X_train, X_test, y_train, y_test = process_data(data)"
   ]
  },
  {
   "cell_type": "code",
   "execution_count": 9,
   "metadata": {},
   "outputs": [],
   "source": [
    "from sklearn.svm import SVC\n",
    "model_linear = SVC(kernel='linear')\n",
    "model_linear.fit(X_train, y_train)\n",
    "\n",
    "# predict\n",
    "y_pred = model_linear.predict(X_test)"
   ]
  },
  {
   "cell_type": "code",
   "execution_count": 10,
   "metadata": {},
   "outputs": [
    {
     "name": "stdout",
     "output_type": "stream",
     "text": [
      "accuracy: 0.9103333333333333 \n",
      "\n",
      "[[1719    0   10    5    3   16   12    1    6    0]\n",
      " [   1 1951   11    5    5    4    0    3   11    1]\n",
      " [  11   26 1676   30   23    5   23   19   17    1]\n",
      " [  10    4   47 1627    4   66    5   19   42   10]\n",
      " [   4    8   21    1 1658    5   14    6    5   50]\n",
      " [  21    9   19   87   12 1423   30    1   39   11]\n",
      " [  20    7   23    1   14   20 1666    2    4    0]\n",
      " [   7   13   19   16   31    4    2 1774    5   93]\n",
      " [  25   44   49   54   12   58   18   11 1436   17]\n",
      " [   4   11   19   23   90    9    1   69   20 1456]]\n"
     ]
    }
   ],
   "source": [
    "# confusion matrix and accuracy\n",
    "\n",
    "from sklearn import metrics\n",
    "from sklearn.metrics import confusion_matrix\n",
    "# accuracy\n",
    "print(\"accuracy:\", metrics.accuracy_score(y_true=y_test, y_pred=y_pred), \"\\n\")\n",
    "\n",
    "# cm\n",
    "print(metrics.confusion_matrix(y_true=y_test, y_pred=y_pred))"
   ]
  },
  {
   "cell_type": "code",
   "execution_count": null,
   "metadata": {},
   "outputs": [],
   "source": []
  }
 ],
 "metadata": {
  "kernelspec": {
   "display_name": "Python 3",
   "language": "python",
   "name": "python3"
  },
  "language_info": {
   "codemirror_mode": {
    "name": "ipython",
    "version": 3
   },
   "file_extension": ".py",
   "mimetype": "text/x-python",
   "name": "python",
   "nbconvert_exporter": "python",
   "pygments_lexer": "ipython3",
   "version": "3.8.6"
  }
 },
 "nbformat": 4,
 "nbformat_minor": 4
}
